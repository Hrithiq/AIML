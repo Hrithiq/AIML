{
 "cells": [
  {
   "cell_type": "code",
   "execution_count": 7,
   "metadata": {},
   "outputs": [
    {
     "name": "stdout",
     "output_type": "stream",
     "text": [
      "Accuracy: 0.995745\n",
      "Confusion Matrix: [[199149    473]\n",
      " [   378      0]]\n",
      "Classification Report:               precision    recall  f1-score   support\n",
      "\n",
      "           0       1.00      1.00      1.00    199622\n",
      "           1       0.00      0.00      0.00       378\n",
      "\n",
      "    accuracy                           1.00    200000\n",
      "   macro avg       0.50      0.50      0.50    200000\n",
      "weighted avg       1.00      1.00      1.00    200000\n",
      "\n",
      "AUC: 0.49881526084299327\n",
      "Matthews Correlation Coefficient: -0.002118709591644109\n"
     ]
    }
   ],
   "source": [
    "import pandas as pd\n",
    "from sklearn.model_selection import train_test_split\n",
    "from sklearn.tree import DecisionTreeClassifier\n",
    "from sklearn.metrics import accuracy_score, classification_report, confusion_matrix\n",
    "from sklearn.metrics import roc_auc_score, matthews_corrcoef\n",
    "\n",
    "#Loading the dataset\n",
    "df = pd.read_csv(\"threats.csv\")\n",
    "\n",
    "#Spliting the data into features (X) and the target variable (y)\n",
    "X = df.drop(\"Threat\", axis=1)\n",
    "y = df[\"Threat\"]\n",
    "\n",
    "#Spliting the data into training and testing sets\n",
    "X_train, X_test, y_train, y_test = train_test_split(X, y, test_size=0.2, random_state=42)\n",
    "\n",
    "#Call the Decision Tree model\n",
    "model = DecisionTreeClassifier(random_state=42)\n",
    "\n",
    "#Train the model\n",
    "model.fit(X_train, y_train)\n",
    "\n",
    "#Make predictions on the test set\n",
    "y_pred = model.predict(X_test)\n",
    "\n",
    "#Evaluate the model using accuracy, confusion matrix, and classification report \n",
    "accuracy = accuracy_score(y_test, y_pred)\n",
    "conf_matrix = confusion_matrix(y_test, y_pred)\n",
    "classification_rep = classification_report(y_test, y_pred)\n",
    "\n",
    "#printing the accuracy confusion matrix, and classification report\n",
    "print(\"Accuracy:\",accuracy)\n",
    "print(f\"Confusion Matrix:\\n{conf_matrix}\")\n",
    "print(f\"Classification Report:\\n{classification_rep}\")\n",
    "\n",
    "\n",
    "#Evaluate the performance using various metrics\n",
    "auc = roc_auc_score(y_test, y_pred)\n",
    "mcc = matthews_corrcoef(y_test, y_pred)\n",
    "\n",
    "\n",
    "#printing the AUC and the Matthews Correlation Coefficient\n",
    "print(\"AUC:\", auc)\n",
    "print(\"Matthews Correlation Coefficient:\", mcc)\n"
   ]
  }
 ],
 "metadata": {
  "kernelspec": {
   "display_name": "Python 3",
   "language": "python",
   "name": "python3"
  },
  "language_info": {
   "codemirror_mode": {
    "name": "ipython",
    "version": 3
   },
   "file_extension": ".py",
   "mimetype": "text/x-python",
   "name": "python",
   "nbconvert_exporter": "python",
   "pygments_lexer": "ipython3",
   "version": "3.12.0"
  }
 },
 "nbformat": 4,
 "nbformat_minor": 2
}
