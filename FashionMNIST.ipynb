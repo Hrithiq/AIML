{
  "cells": [
    {
      "cell_type": "markdown",
      "id": "bcd8b506",
      "metadata": {
        "id": "bcd8b506"
      },
      "source": [
        "# Fashion MNIST dataset"
      ]
    },
    {
      "cell_type": "code",
      "execution_count": 1,
      "id": "ef6eb5b3",
      "metadata": {
        "id": "ef6eb5b3"
      },
      "outputs": [],
      "source": [
        "# Importing libraries\n",
        "import tensorflow as tf\n",
        "import pandas as pd\n",
        "import keras\n",
        "from tensorflow.keras.models import Sequential\n",
        "from tensorflow.keras.layers import Input, Dense\n",
        "from keras.datasets import fashion_mnist\n",
        "import numpy as np\n",
        "import matplotlib.pyplot as plt"
      ]
    },
    {
      "cell_type": "markdown",
      "id": "be5b3e47",
      "metadata": {
        "id": "be5b3e47"
      },
      "source": [
        "## Understanding the dataset and Pre-processing"
      ]
    },
    {
      "cell_type": "code",
      "execution_count": 2,
      "id": "10062b39-a521-4fc2-bf93-9c38d6023d7f",
      "metadata": {
        "id": "10062b39-a521-4fc2-bf93-9c38d6023d7f"
      },
      "outputs": [],
      "source": [
        "#Loading data\n",
        "data=fashion_mnist.load_data()"
      ]
    },
    {
      "cell_type": "code",
      "execution_count": 3,
      "id": "a69afff8-15d7-443e-8110-d11c30a27de3",
      "metadata": {
        "id": "a69afff8-15d7-443e-8110-d11c30a27de3"
      },
      "outputs": [],
      "source": [
        "#Splitting the data into train and test\n",
        "(X_train,y_train),(X_test,y_test)=data"
      ]
    },
    {
      "cell_type": "markdown",
      "id": "ebc3826a",
      "metadata": {
        "id": "ebc3826a"
      },
      "source": [
        "### Displaying the number of classes"
      ]
    },
    {
      "cell_type": "code",
      "execution_count": 4,
      "id": "bcceeece-bdc3-48d5-88a1-05bf3819875b",
      "metadata": {
        "colab": {
          "base_uri": "https://localhost:8080/"
        },
        "id": "bcceeece-bdc3-48d5-88a1-05bf3819875b",
        "outputId": "22a9b74c-af3c-4eff-da6b-ba83b8d99c55"
      },
      "outputs": [
        {
          "data": {
            "text/plain": [
              "10"
            ]
          },
          "execution_count": 4,
          "metadata": {},
          "output_type": "execute_result"
        }
      ],
      "source": [
        "len(np.unique(y_train))"
      ]
    },
    {
      "cell_type": "markdown",
      "id": "4b199b1c",
      "metadata": {
        "id": "4b199b1c"
      },
      "source": [
        "### Displaying the dimensions of each image"
      ]
    },
    {
      "cell_type": "code",
      "execution_count": 5,
      "id": "0d69a265-26e1-4fe7-babf-77dad2f39048",
      "metadata": {
        "colab": {
          "base_uri": "https://localhost:8080/"
        },
        "id": "0d69a265-26e1-4fe7-babf-77dad2f39048",
        "outputId": "8742f94e-f232-4d46-b51a-414f16b47cc6"
      },
      "outputs": [
        {
          "name": "stdout",
          "output_type": "stream",
          "text": [
            "Shape of X_train:  (60000, 28, 28)\n",
            "Shape of X_test:  (10000, 28, 28)\n",
            "Shape of y_train:  (60000,)\n",
            "Shape of y_test:  (10000,)\n"
          ]
        }
      ],
      "source": [
        "print(\"Shape of X_train: \", X_train.shape)\n",
        "print(\"Shape of X_test: \", X_test.shape)\n",
        "print(\"Shape of y_train: \", y_train.shape)\n",
        "print(\"Shape of y_test: \", y_test.shape)"
      ]
    },
    {
      "cell_type": "markdown",
      "id": "aa853609",
      "metadata": {
        "id": "aa853609"
      },
      "source": [
        "### Displaying one image from each class"
      ]
    },
    {
      "cell_type": "code",
      "execution_count": 6,
      "id": "9587b772-3146-4df0-b8b0-15911caaf2ba",
      "metadata": {
        "colab": {
          "base_uri": "https://localhost:8080/",
          "height": 351
        },
        "id": "9587b772-3146-4df0-b8b0-15911caaf2ba",
        "outputId": "5b64efb2-eb8c-4907-8081-453cf80148e2"
      },
      "outputs": [
        {
          "data": {
            "image/png": "[encoded data removed]",
            "text/plain": [
              "<Figure size 640x480 with 10 Axes>"
            ]
          },
          "metadata": {},
          "output_type": "display_data"
        }
      ],
      "source": [
        "for i in range(0,10):\n",
        "    plt.subplot(2,5,i+1)\n",
        "    index=y_train.tolist().index(i)\n",
        "    plt.imshow(X_train[index],cmap=\"gray\")"
      ]
    },
    {
      "cell_type": "markdown",
      "id": "b1ebf06a",
      "metadata": {
        "id": "b1ebf06a"
      },
      "source": [
        "### Normalization"
      ]
    },
    {
      "cell_type": "code",
      "execution_count": 7,
      "id": "9fa22556-0f57-4853-b20e-55291b3efaf2",
      "metadata": {
        "id": "9fa22556-0f57-4853-b20e-55291b3efaf2"
      },
      "outputs": [],
      "source": [
        "X_train=X_train/255.0\n",
        "X_test=X_test/255.0"
      ]
    },
    {
      "cell_type": "markdown",
      "id": "45a326ea",
      "metadata": {
        "id": "45a326ea"
      },
      "source": [
        "## Performing experiments on Fully Connected Neural Networks (FCNN):"
      ]
    },
    {
      "cell_type": "markdown",
      "id": "a8356c41",
      "metadata": {
        "id": "a8356c41"
      },
      "source": [
        "### Designing a FCNN for the dataset"
      ]
    },
    {
      "cell_type": "code",
      "execution_count": 8,
      "id": "181dfe69-6533-411f-b91d-2fab4e13dd57",
      "metadata": {
        "id": "181dfe69-6533-411f-b91d-2fab4e13dd57"
      },
      "outputs": [
        {
          "ename": "",
          "evalue": "",
          "output_type": "error",
          "traceback": [
            "\u001b[1;31mThe Kernel crashed while executing code in the the current cell or a previous cell. Please review the code in the cell(s) to identify a possible cause of the failure. Click <a href='https://aka.ms/vscodeJupyterKernelCrash'>here</a> for more info. View Jupyter <a href='command:jupyter.viewOutput'>log</a> for further details."
          ]
        }
      ],
      "source": [
        "# Creating a model\n",
        "model=Sequential()\n",
        "model.add(keras.layers.Flatten(input_shape=[28,28], name=\"input_layer\"))\n",
        "model.add(Dense(300, activation='relu', name='hidden1'))\n",
        "model.add(Dense(100, activation='relu', name=\"hidden2\"))\n",
        "model.add(Dense(10, activation='softmax', name=\"output_layer\"))"
      ]
    },
    {
      "cell_type": "code",
      "execution_count": null,
      "id": "d249e809",
      "metadata": {
        "colab": {
          "base_uri": "https://localhost:8080/"
        },
        "id": "d249e809",
        "outputId": "9533891c-2c55-40fa-a12c-3760c2347188"
      },
      "outputs": [],
      "source": [
        "# Summary of the model\n",
        "model.summary()"
      ]
    },
    {
      "cell_type": "code",
      "execution_count": null,
      "id": "7fa73ab7-f101-4e35-9f92-84ddaa848895",
      "metadata": {
        "id": "7fa73ab7-f101-4e35-9f92-84ddaa848895"
      },
      "outputs": [],
      "source": [
        "# Compile the model\n",
        "model.compile(loss=\"sparse_categorical_crossentropy\", optimizer=\"adam\" ,metrics=[\"accuracy\"])"
      ]
    },
    {
      "cell_type": "markdown",
      "id": "3a9fd751",
      "metadata": {
        "id": "3a9fd751"
      },
      "source": [
        "### Training the network"
      ]
    },
    {
      "cell_type": "code",
      "execution_count": null,
      "id": "b3e73df5-29b4-4c2d-9749-3f40b03331c7",
      "metadata": {
        "colab": {
          "base_uri": "https://localhost:8080/"
        },
        "id": "b3e73df5-29b4-4c2d-9749-3f40b03331c7",
        "outputId": "e77b07a3-71d1-4ee0-b7ed-7752c744c0af"
      },
      "outputs": [],
      "source": [
        "# Fitting the model\n",
        "epochs=5\n",
        "batch_size=32\n",
        "history=model.fit(X_train, y_train, epochs=epochs, batch_size=batch_size, validation_split=0.1)"
      ]
    },
    {
      "cell_type": "markdown",
      "id": "3abdc780",
      "metadata": {
        "id": "3abdc780"
      },
      "source": [
        "### Performance curves"
      ]
    },
    {
      "cell_type": "code",
      "execution_count": null,
      "id": "bf3a63e7-911e-437c-93dd-d6ba1cb0f4aa",
      "metadata": {
        "colab": {
          "base_uri": "https://localhost:8080/",
          "height": 472
        },
        "id": "bf3a63e7-911e-437c-93dd-d6ba1cb0f4aa",
        "outputId": "48d168d6-4d8d-454e-c6cb-5cfff2ac8be6"
      },
      "outputs": [],
      "source": [
        "# Loss vs Epochs curve\n",
        "loss_train = history.history['loss']\n",
        "loss_val = history.history['val_loss']\n",
        "epochs = range(1,6)\n",
        "plt.plot(epochs, loss_train, 'r', label='Training loss')\n",
        "plt.plot(epochs, loss_val, 'b', label='validation loss')\n",
        "plt.title('Training and Validation loss')\n",
        "plt.xlabel('Epochs')\n",
        "plt.ylabel('Loss')\n",
        "plt.legend()\n",
        "plt.show()"
      ]
    },
    {
      "cell_type": "code",
      "execution_count": null,
      "id": "76653dea-2072-4982-8592-f972d56fd508",
      "metadata": {
        "colab": {
          "base_uri": "https://localhost:8080/",
          "height": 472
        },
        "id": "76653dea-2072-4982-8592-f972d56fd508",
        "outputId": "27f4cf5d-24b5-4ad8-afbd-add95e899443"
      },
      "outputs": [],
      "source": [
        "# Accuracy vs Epochs curve\n",
        "acc_train = history.history['accuracy']\n",
        "acc_val = history.history['val_accuracy']\n",
        "epochs = range(1,6)\n",
        "plt.plot(epochs, acc_train, 'r', label='Training accuracy')\n",
        "plt.plot(epochs, acc_val, 'b', label='validation accuracy')\n",
        "plt.title('Training and Validation accuracy')\n",
        "plt.xlabel('Epochs')\n",
        "plt.ylabel('Accuracy')\n",
        "plt.legend()\n",
        "plt.show()"
      ]
    },
    {
      "cell_type": "markdown",
      "id": "0f166cd1",
      "metadata": {
        "id": "0f166cd1"
      },
      "source": [
        "## Performing experiments on a Convolution Neural Networks (CNNs):"
      ]
    },
    {
      "cell_type": "markdown",
      "id": "37236852",
      "metadata": {
        "id": "37236852"
      },
      "source": [
        "### Designing CNN-1 which contains:\n",
        "### Two back-to-back Convolution layers which uses 32 kernels each of size 3x3, stride=1 and padding =0.\n",
        "### One pooling layer which uses MAXPOOLING with stride=2.\n",
        "### One hidden layer having number of neurons =100"
      ]
    },
    {
      "cell_type": "code",
      "execution_count": null,
      "id": "bcfa05f2-c54d-49a4-b84e-3f2958959aab",
      "metadata": {
        "id": "bcfa05f2-c54d-49a4-b84e-3f2958959aab"
      },
      "outputs": [],
      "source": [
        "# Creating the second CNN model\n",
        "cnn1=Sequential()\n",
        "cnn1.add(keras.Input(shape=(28,28,1)))\n",
        "cnn1.add(keras.layers.Conv2D(32,kernel_size=(3,3),strides=(1,1), activation='relu', padding='valid'))\n",
        "cnn1.add(keras.layers.Conv2D(32,kernel_size=(3,3),strides=(1,1), activation='relu', padding='valid'))\n",
        "cnn1.add(keras.layers.MaxPooling2D(strides=(2,2)))\n",
        "cnn1.add(keras.layers.Flatten())\n",
        "cnn1.add(keras.layers.Dense(100, activation='relu'))\n",
        "cnn1.add(Dense(10,activation='softmax'))"
      ]
    },
    {
      "cell_type": "code",
      "execution_count": null,
      "id": "f5224788-63d5-45ce-bcd7-88f33ff62a02",
      "metadata": {
        "colab": {
          "base_uri": "https://localhost:8080/"
        },
        "id": "f5224788-63d5-45ce-bcd7-88f33ff62a02",
        "outputId": "85bf9338-f276-4768-c449-5a65aaec0ad3"
      },
      "outputs": [],
      "source": [
        "# Summary of the model\n",
        "cnn1.summary()"
      ]
    },
    {
      "cell_type": "code",
      "execution_count": null,
      "id": "20996630",
      "metadata": {
        "id": "20996630"
      },
      "outputs": [],
      "source": [
        "# Compiling the model\n",
        "cnn1.compile(optimizer=\"adam\", loss=\"sparse_categorical_crossentropy\", metrics=['accuracy'])"
      ]
    },
    {
      "cell_type": "markdown",
      "id": "8677c1aa",
      "metadata": {
        "id": "8677c1aa"
      },
      "source": [
        "### Training the networks"
      ]
    },
    {
      "cell_type": "code",
      "execution_count": null,
      "id": "725e053d",
      "metadata": {
        "colab": {
          "base_uri": "https://localhost:8080/"
        },
        "id": "725e053d",
        "outputId": "175c4304-7159-42a5-c638-d3bb5f07a031"
      },
      "outputs": [],
      "source": [
        "# Fitting the model\n",
        "epochs=5\n",
        "batch_size=32\n",
        "history1=cnn1.fit(X_train, y_train, epochs=epochs, batch_size=batch_size, validation_split=0.1)"
      ]
    },
    {
      "cell_type": "markdown",
      "id": "791b3835",
      "metadata": {
        "id": "791b3835"
      },
      "source": [
        "### Performance curves"
      ]
    },
    {
      "cell_type": "code",
      "execution_count": null,
      "id": "9de9f934",
      "metadata": {
        "colab": {
          "base_uri": "https://localhost:8080/",
          "height": 472
        },
        "id": "9de9f934",
        "outputId": "26523c62-c63e-4082-d5af-b32adb33fc5f"
      },
      "outputs": [],
      "source": [
        "# Plotting the Loss vs Epochs curve\n",
        "loss_train = history1.history['loss']\n",
        "loss_val = history1.history['val_loss']\n",
        "epochs = range(1,6)\n",
        "plt.plot(epochs, loss_train, 'r', label='Training loss')\n",
        "plt.plot(epochs, loss_val, 'b', label='validation loss')\n",
        "plt.title('Training and Validation loss')\n",
        "plt.xlabel('Epochs')\n",
        "plt.ylabel('Loss')\n",
        "plt.legend()\n",
        "plt.show()"
      ]
    },
    {
      "cell_type": "code",
      "execution_count": null,
      "id": "399b5426",
      "metadata": {
        "colab": {
          "base_uri": "https://localhost:8080/",
          "height": 472
        },
        "id": "399b5426",
        "outputId": "05c800b1-a287-4aff-d6a1-34de4f840f6d"
      },
      "outputs": [],
      "source": [
        "# Comparing the Accuracy vs Epochs curve\n",
        "acc_train = history1.history['accuracy']\n",
        "acc_val = history1.history['val_accuracy']\n",
        "epochs = range(1,6)\n",
        "plt.plot(epochs, acc_train, 'r', label='Training accuracy')\n",
        "plt.plot(epochs, acc_val, 'b', label='validation accuracy')\n",
        "plt.title('Training and Validation accuracy')\n",
        "plt.xlabel('Epochs')\n",
        "plt.ylabel('Accuracy')\n",
        "plt.legend()\n",
        "plt.show()"
      ]
    },
    {
      "cell_type": "code",
      "execution_count": null,
      "id": "84199727",
      "metadata": {
        "colab": {
          "base_uri": "https://localhost:8080/",
          "height": 449
        },
        "id": "84199727",
        "outputId": "2d177964-47d1-49c6-c6ac-5c598070f4a8"
      },
      "outputs": [],
      "source": [
        "training_accuracy_fcnn = history.history['accuracy']\n",
        "validation_accuracy_fcnn = history.history['val_accuracy']\n",
        "training_accuracy_cnn1 = history1.history['accuracy']\n",
        "validation_accuracy_cnn1 = history1.history['val_accuracy']\n",
        "plt.plot(training_accuracy_fcnn, label='Training Accuracy1')\n",
        "plt.plot(validation_accuracy_fcnn, label='Validation Accuracy1')\n",
        "plt.plot(training_accuracy_cnn1, label='Training Accuracy2')\n",
        "plt.plot(validation_accuracy_cnn1, label='Validation Accuracy2')\n",
        "plt.legend()"
      ]
    }
  ],
  "metadata": {
    "colab": {
      "provenance": []
    },
    "kernelspec": {
      "display_name": "Python 3 (ipykernel)",
      "language": "python",
      "name": "python3"
    },
    "language_info": {
      "codemirror_mode": {
        "name": "ipython",
        "version": 3
      },
      "file_extension": ".py",
      "mimetype": "text/x-python",
      "name": "python",
      "nbconvert_exporter": "python",
      "pygments_lexer": "ipython3",
      "version": "3.11.8"
    }
  },
  "nbformat": 4,
  "nbformat_minor": 5
}
