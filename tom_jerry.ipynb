{
 "cells": [
  {
   "cell_type": "code",
   "execution_count": 1,
   "metadata": {},
   "outputs": [],
   "source": [
    "import pandas as pd\n",
    "from tensorflow.keras.models import Sequential, Model\n",
    "from tensorflow.keras.layers import Conv2D, MaxPooling2D, Flatten, Dense, Dropout,BatchNormalization\n",
    "from tensorflow.keras.preprocessing.image import ImageDataGenerator\n",
    "from tensorflow.keras.callbacks import EarlyStopping\n"
   ]
  },
  {
   "cell_type": "code",
   "execution_count": 6,
   "metadata": {},
   "outputs": [
    {
     "name": "stdout",
     "output_type": "stream",
     "text": [
      "Found 4382 validated image filenames.\n"
     ]
    }
   ],
   "source": [
    "# Load training data from CSV\n",
    "train_df = pd.read_csv('train_data.csv')\n",
    "\n",
    "# Filter images based on training data\n",
    "train_images = train_df['image_name'].tolist()\n",
    "train_images_dir = r\"\\NeuralCrash\\tom_jerry\\tom_jerry\"\n",
    "\n",
    "# Separate test images based on the test_data.csv file\n",
    "test_df = pd.read_csv('test_data.csv')\n",
    "test_images = test_df['image_name'].tolist()\n",
    "\n",
    "\n",
    "# Data generator for training\n",
    "train_datagen = ImageDataGenerator(rescale=1./255)\n",
    "\n",
    "train_generator = train_datagen.flow_from_dataframe(\n",
    "    train_df,\n",
    "    directory=train_images_dir,\n",
    "    x_col='image_name',\n",
    "    y_col=['jerry', 'tom'],\n",
    "    target_size=(128, 128),\n",
    "    batch_size=16,\n",
    "    class_mode='raw',  # Use 'raw' for multi-output classification\n",
    "    subset='training'  # Use only training images\n",
    ")\n",
    "\n"
   ]
  },
  {
   "cell_type": "code",
   "execution_count": null,
   "metadata": {},
   "outputs": [],
   "source": [
    "\n",
    "# CNN model architecture\n",
    "model = Sequential([\n",
    "    Conv2D(64, (3, 3), activation='relu', input_shape=(128, 128, 3)),\n",
    "    BatchNormalization(),\n",
    "    MaxPooling2D(2, 2),\n",
    "    Conv2D(128, (3, 3), activation='relu'),\n",
    "    BatchNormalization(),\n",
    "    MaxPooling2D(2, 2),\n",
    "    Conv2D(256, (3, 3), activation='relu'),\n",
    "    BatchNormalization(),\n",
    "    MaxPooling2D(2, 2),\n",
    "    Conv2D(512, (3, 3), activation='relu'),\n",
    "    BatchNormalization(),\n",
    "    MaxPooling2D(2, 2),\n",
    "    Flatten(),\n",
    "    Dense(256, activation='relu'),\n",
    "    Dense(2, activation='sigmoid')  # Output layer with 2 neurons for jerry and tom\n",
    "])\n",
    "\n",
    "# Compile the model\n",
    "model.compile(optimizer='adam',\n",
    "               loss='binary_crossentropy', \n",
    "               metrics=['accuracy'])\n"
   ]
  },
  {
   "cell_type": "code",
   "execution_count": 94,
   "metadata": {},
   "outputs": [
    {
     "name": "stdout",
     "output_type": "stream",
     "text": [
      "Epoch 1/15\n",
      "547/547 [==============================] - 15s 24ms/step - loss: 0.8144 - accuracy: 0.5773\n",
      "Epoch 2/15\n",
      "547/547 [==============================] - 13s 24ms/step - loss: 0.4927 - accuracy: 0.6916\n",
      "Epoch 3/15\n",
      "547/547 [==============================] - 13s 24ms/step - loss: 0.3830 - accuracy: 0.7474\n",
      "Epoch 4/15\n",
      "547/547 [==============================] - 13s 23ms/step - loss: 0.3153 - accuracy: 0.7709\n",
      "Epoch 5/15\n",
      "547/547 [==============================] - 12s 23ms/step - loss: 0.2432 - accuracy: 0.7949\n",
      "Epoch 6/15\n",
      "547/547 [==============================] - 12s 23ms/step - loss: 0.1868 - accuracy: 0.7995\n",
      "Epoch 7/15\n",
      "547/547 [==============================] - 13s 23ms/step - loss: 0.1550 - accuracy: 0.8002\n",
      "Epoch 8/15\n",
      "547/547 [==============================] - 13s 23ms/step - loss: 0.1260 - accuracy: 0.8013\n",
      "Epoch 9/15\n",
      "547/547 [==============================] - 13s 23ms/step - loss: 0.1112 - accuracy: 0.8160\n",
      "Epoch 10/15\n",
      "547/547 [==============================] - 13s 24ms/step - loss: 0.0986 - accuracy: 0.8212\n",
      "Epoch 11/15\n",
      "547/547 [==============================] - 13s 24ms/step - loss: 0.0947 - accuracy: 0.8381\n",
      "Epoch 12/15\n",
      "547/547 [==============================] - 13s 24ms/step - loss: 0.0915 - accuracy: 0.8283\n",
      "Epoch 13/15\n",
      "547/547 [==============================] - 13s 24ms/step - loss: 0.0604 - accuracy: 0.8329\n",
      "Epoch 14/15\n",
      "547/547 [==============================] - 14s 25ms/step - loss: 0.0627 - accuracy: 0.8500\n",
      "Epoch 15/15\n",
      "547/547 [==============================] - 14s 25ms/step - loss: 0.0697 - accuracy: 0.8404\n"
     ]
    }
   ],
   "source": [
    "# Train the model\n",
    "history = model.fit(\n",
    "    train_generator,\n",
    "    steps_per_epoch=train_generator.n // train_generator.batch_size,\n",
    "    epochs=15\n",
    ")"
   ]
  },
  {
   "cell_type": "code",
   "execution_count": 7,
   "metadata": {},
   "outputs": [
    {
     "name": "stdout",
     "output_type": "stream",
     "text": [
      "Found 1096 validated image filenames.\n"
     ]
    }
   ],
   "source": [
    "# Data generator for test set\n",
    "test_datagen = ImageDataGenerator(rescale=1./255)\n",
    "\n",
    "test_generator = test_datagen.flow_from_dataframe(\n",
    "    test_df,\n",
    "    directory=train_images_dir,  # Use the same directory for test images\n",
    "    x_col='image_name',\n",
    "    y_col=None,\n",
    "    target_size=(128, 128),\n",
    "    batch_size=1,\n",
    "    shuffle=False,\n",
    "    class_mode=None,\n",
    "    subset='training'  # Use only test images\n",
    ")"
   ]
  },
  {
   "cell_type": "code",
   "execution_count": 98,
   "metadata": {},
   "outputs": [
    {
     "name": "stdout",
     "output_type": "stream",
     "text": [
      "1096/1096 [==============================] - 4s 3ms/step\n"
     ]
    }
   ],
   "source": [
    "# Make predictions on the test set\n",
    "predictions = model.predict(test_generator)\n",
    "\n",
    "# Convert predictions to binary based on threshold\n",
    "binary_predictions = (predictions > 0.5).astype(int)\n",
    "image_names = test_generator.filenames\n",
    "\n",
    "# Prepare predictions in CSV format\n",
    "results = pd.DataFrame({'image_name': image_names, 'jerry': binary_predictions[:, 0], 'tom': binary_predictions[:, 1]})\n",
    "results.to_csv('predictions.csv', index=False)\n",
    "\n",
    "# Prepare predictions in CSV format\n",
    "results = pd.DataFrame({'image_name': image_names, 'jerry': predictions[:, 0], 'tom': predictions[:, 1]})\n",
    "results.to_csv('predictions1.csv', index=False)"
   ]
  }
 ],
 "metadata": {
  "kernelspec": {
   "display_name": "myenv",
   "language": "python",
   "name": "python3"
  },
  "language_info": {
   "codemirror_mode": {
    "name": "ipython",
    "version": 3
   },
   "file_extension": ".py",
   "mimetype": "text/x-python",
   "name": "python",
   "nbconvert_exporter": "python",
   "pygments_lexer": "ipython3",
   "version": "3.8.19"
  }
 },
 "nbformat": 4,
 "nbformat_minor": 2
}
