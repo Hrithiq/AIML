{
 "cells": [
  {
   "cell_type": "code",
   "execution_count": 40,
   "metadata": {},
   "outputs": [],
   "source": [
    "from selenium import webdriver\n",
    "import time \n",
    "from selenium.webdriver import Keys\n",
    "from selenium.webdriver.common.by import By\n",
    "from selenium.webdriver.chrome.options import Options"
   ]
  },
  {
   "cell_type": "code",
   "execution_count": 41,
   "metadata": {},
   "outputs": [],
   "source": [
    "driver=webdriver.Chrome()\n",
    "driver.set_window_size(1920,1080)"
   ]
  },
  {
   "cell_type": "code",
   "execution_count": null,
   "metadata": {},
   "outputs": [],
   "source": [
    "driver.get(\"https://www.imdb.com/chart/top/?ref_=nv_mv_250\")\n",
    "logo = driver.find_element(By.XPATH, '//*[@id=\"imdbHeader-navDrawerOpen\"]')\n",
    "ul=driver.find_element(By.XPATH, '//*[@id=\"__next\"]/main/div/div[3]/section/div/div[2]/div/ul')\n",
    "logo1=driver.find_element(By.XPATH, '//*[@id=\"imdbHeader\"]/div[2]/aside[1]/div/div[2]/div/div[1]/span/div/div/ul/a[5]')\n",
    "movie_names=ul.find_elements(By.XPATH, '//li//h3')\n",
    "# //*[@id=\"__next\"]/main/div/div[3]/section/div/div[2]/div/ul/li[2]/div[2]/div/div/div[1]/a/h3\n",
    "# //*[@id=\"__next\"]/main/div/div[3]/section/div/div[2]/div/ul/li[1]/div[2]/div/div/div[2]/span[1]\n",
    "# logo.click()\n",
    "# time.sleep(2)\n",
    "# logo1.click()\n",
    "# time.sleep(10)\n",
    "# driver.quit()\n",
    "top_movies=driver.find_element(By.XPATH, '//*[@id=\"__next\"]/main/div/div[3]/section/div/div[2]/div/ul')\n",
    "top_movie=top_movies.find_elements(By.XPATH, '//li//span[1]')\n",
    "for top in top_movie:\n",
    "    print(top_movies.text)  \n",
    "''' can also be done class labels \n",
    "headless mode \n",
    "options\n",
    "zip try in imdb 250 \n",
    "py otp\n",
    "\n",
    "'''\n",
    "a=zip()"
   ]
  },
  {
   "cell_type": "code",
   "execution_count": null,
   "metadata": {},
   "outputs": [],
   "source": []
  },
  {
   "cell_type": "code",
   "execution_count": null,
   "metadata": {},
   "outputs": [],
   "source": []
  }
 ],
 "metadata": {
  "kernelspec": {
   "display_name": "Python 3",
   "language": "python",
   "name": "python3"
  },
  "language_info": {
   "codemirror_mode": {
    "name": "ipython",
    "version": 3
   },
   "file_extension": ".py",
   "mimetype": "text/x-python",
   "name": "python",
   "nbconvert_exporter": "python",
   "pygments_lexer": "ipython3",
   "version": "3.12.0"
  }
 },
 "nbformat": 4,
 "nbformat_minor": 2
}
